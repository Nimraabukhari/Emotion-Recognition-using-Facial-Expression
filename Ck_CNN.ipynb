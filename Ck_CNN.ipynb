{
  "nbformat": 4,
  "nbformat_minor": 0,
  "metadata": {
    "colab": {
      "provenance": []
    },
    "kernelspec": {
      "name": "python3",
      "display_name": "Python 3"
    },
    "language_info": {
      "name": "python"
    }
  },
  "cells": [
    {
      "cell_type": "markdown",
      "source": [
        "**Importing Libraries**"
      ],
      "metadata": {
        "id": "onPVV6uIpH21"
      }
    },
    {
      "cell_type": "code",
      "execution_count": null,
      "metadata": {
        "colab": {
          "base_uri": "https://localhost:8080/"
        },
        "id": "WFVg-qabWbRA",
        "outputId": "c76c97ba-7b8b-4a50-b806-5923a0aa657a"
      },
      "outputs": [
        {
          "output_type": "stream",
          "name": "stdout",
          "text": [
            "['disgust', 'fear', 'contempt', 'surprise', 'happy', 'anger', 'sadness']\n"
          ]
        }
      ],
      "source": [
        "# This Python 3 environment comes with many helpful analytics libraries installed\n",
        "# It is defined by the kaggle/python docker image: https://github.com/kaggle/docker-python\n",
        "# For example, here's several helpful packages to load in \n",
        "\n",
        "import numpy as np # linear algebra\n",
        "import pandas as pd # data processing, CSV file I/O (e.g. pd.read_csv)\n",
        "import os,cv2\n",
        "import numpy as np\n",
        "import matplotlib.pyplot as plt\n",
        "import matplotlib.image as mpimg\n",
        "from pylab import rcParams\n",
        "rcParams['figure.figsize'] = 20, 10\n",
        "\n",
        "from sklearn.utils import shuffle\n",
        "from sklearn.model_selection import train_test_split\n",
        "\n",
        "import keras\n",
        "\n",
        "\n",
        "from keras.utils import np_utils\n",
        "# Input data files are available in the \"../input/\" directory.\n",
        "# For example, running this (by clicking run or pressing Shift+Enter) will list the files in the input directory\n",
        "from keras.models import Sequential\n",
        "from keras.layers import Dense , Activation , Dropout ,Flatten\n",
        "from keras.layers.convolutional import Conv2D\n",
        "from keras.layers.convolutional import MaxPooling2D\n",
        "from keras.metrics import categorical_accuracy\n",
        "from keras.models import model_from_json\n",
        "from keras.callbacks import ModelCheckpoint\n",
        "from keras.optimizers import *\n",
        "from tensorflow.keras.models import Sequential\n",
        "from tensorflow.keras.layers import (\n",
        "    BatchNormalization, SeparableConv2D, MaxPooling2D, Activation, Flatten, Dropout, Dense\n",
        ")\n",
        "import os\n",
        "print(os.listdir(\"drive/MyDrive/CK Plus/CK+48\"))\n",
        "\n",
        "\n",
        "# Any results you write to the current directory are saved as output.\n",
        "\n",
        "\n"
      ]
    },
    {
      "cell_type": "markdown",
      "source": [
        "**Extracting images from Directory**\n",
        "\n",
        "\n"
      ],
      "metadata": {
        "id": "NLk0odODr5_0"
      }
    },
    {
      "cell_type": "code",
      "source": [
        "data_path = 'drive/MyDrive/CK Plus/CK+48'\n",
        "data_dir_list = os.listdir(data_path)\n",
        "\n",
        "img_rows=256\n",
        "img_cols=256\n",
        "num_channel=1\n",
        "\n",
        "num_epoch=10\n",
        "\n",
        "img_data_list=[]\n",
        "\n",
        "\n",
        "for dataset in data_dir_list:\n",
        "    img_list=os.listdir(data_path+'/'+ dataset)\n",
        "    print ('Loaded the images of dataset-'+'{}\\n'.format(dataset))\n",
        "    for img in img_list:\n",
        "        input_img=cv2.imread(data_path + '/'+ dataset + '/'+ img )\n",
        "        #input_img=cv2.cvtColor(input_img, cv2.COLOR_BGR2GRAY)\n",
        "        input_img_resize=cv2.resize(input_img,(48,48))\n",
        "        img_data_list.append(input_img_resize)\n",
        "        \n",
        "img_data = np.array(img_data_list)\n",
        "img_data = img_data.astype('float32')\n",
        "img_data = img_data/255\n",
        "img_data.shape"
      ],
      "metadata": {
        "colab": {
          "base_uri": "https://localhost:8080/"
        },
        "id": "LJs7wwwNfauF",
        "outputId": "53de6628-c36f-4ac9-cc89-1af3d6a49f9b"
      },
      "execution_count": null,
      "outputs": [
        {
          "output_type": "stream",
          "name": "stdout",
          "text": [
            "Loaded the images of dataset-disgust\n",
            "\n",
            "Loaded the images of dataset-fear\n",
            "\n",
            "Loaded the images of dataset-contempt\n",
            "\n",
            "Loaded the images of dataset-surprise\n",
            "\n",
            "Loaded the images of dataset-happy\n",
            "\n",
            "Loaded the images of dataset-anger\n",
            "\n",
            "Loaded the images of dataset-sadness\n",
            "\n"
          ]
        },
        {
          "output_type": "execute_result",
          "data": {
            "text/plain": [
              "(981, 48, 48, 3)"
            ]
          },
          "metadata": {},
          "execution_count": 2
        }
      ]
    },
    {
      "cell_type": "markdown",
      "source": [
        "**Putting Lables in Data**"
      ],
      "metadata": {
        "id": "iBLI9O_ZsKeq"
      }
    },
    {
      "cell_type": "code",
      "source": [
        "num_classes = 7\n",
        "\n",
        "num_of_samples = img_data.shape[0]\n",
        "labels = np.ones((num_of_samples,),dtype='int64')\n",
        "\n",
        "labels[0:134]=0 #135\n",
        "labels[135:188]=1 #54\n",
        "labels[189:365]=2 #177\n",
        "labels[366:440]=3 #75\n",
        "labels[441:647]=4 #207\n",
        "labels[648:731]=5 #84\n",
        "labels[732:980]=6 #249\n",
        "\n",
        "names = ['anger','contempt','disgust','fear','happy','sadness','surprise']\n",
        "\n",
        "def getLabel(id):\n",
        "    return ['anger','contempt','disgust','fear','happy','sadness','surprise'][id]"
      ],
      "metadata": {
        "id": "axgGGGxrf-AL"
      },
      "execution_count": null,
      "outputs": []
    },
    {
      "cell_type": "code",
      "source": [
        "num_classes = 7\n",
        "\n",
        "num_of_samples = img_data.shape[0]\n",
        "labels = np.ones((num_of_samples,),dtype='int64')\n",
        "\n",
        "labels[0:134]=0 #135\n",
        "labels[135:188]=1 #54\n",
        "labels[189:365]=2 #177\n",
        "labels[366:440]=3 #75\n",
        "labels[441:647]=4 #207\n",
        "labels[648:731]=5 #84\n",
        "labels[732:980]=6 #249\n",
        "\n",
        "names = ['anger','contempt','disgust','fear','happy','sadness','surprise']\n",
        "\n",
        "def getLabel(id):\n",
        "    return ['anger','contempt','disgust','fear','happy','sadness','surprise'][id]"
      ],
      "metadata": {
        "id": "LXQF-owoJtmU"
      },
      "execution_count": null,
      "outputs": []
    },
    {
      "cell_type": "markdown",
      "source": [
        "**Splitting train and test**"
      ],
      "metadata": {
        "id": "vB2r15dnsi2b"
      }
    },
    {
      "cell_type": "code",
      "source": [
        "Y = np_utils.to_categorical(labels, num_classes)\n",
        "\n",
        "#Shuffle the dataset\n",
        "x,y = shuffle(img_data,Y, random_state=2)\n",
        "# Split the dataset\n",
        "X_train, X_test, y_train, y_test = train_test_split(x, y, test_size=0.2, random_state=2)\n",
        "x_test=X_test"
      ],
      "metadata": {
        "id": "-iUkh4AOgAy-"
      },
      "execution_count": null,
      "outputs": []
    },
    {
      "cell_type": "code",
      "source": [
        "input_shape=(48,48,3)\n",
        "\n",
        "model = Sequential()\n",
        "model.add(Conv2D(6, (5, 5), input_shape=input_shape, padding='same', activation = 'relu'))\n",
        "model.add(MaxPooling2D(pool_size=(2, 2)))\n",
        "\n",
        "model.add(Conv2D(16, (5, 5), padding='same', activation = 'relu'))\n",
        "model.add(Activation('relu'))\n",
        "model.add(MaxPooling2D(pool_size=(2, 2)))\n",
        "\n",
        "model.add(Conv2D(64, (3, 3), activation = 'relu'))\n",
        "model.add(MaxPooling2D(pool_size=(2, 2)))\n",
        "\n",
        "model.add(Flatten())\n",
        "model.add(Dense(128, activation = 'relu'))\n",
        "model.add(Dropout(0.5))\n",
        "model.add(Dense(7, activation = 'softmax'))\n",
        "\n",
        "model.compile(loss='categorical_crossentropy', metrics=['accuracy'],optimizer='adam')"
      ],
      "metadata": {
        "id": "_R_Rrpw_gEu-"
      },
      "execution_count": null,
      "outputs": []
    },
    {
      "cell_type": "markdown",
      "source": [
        "**Model Visualization**"
      ],
      "metadata": {
        "id": "5wrxVFxbtHEY"
      }
    },
    {
      "cell_type": "code",
      "source": [
        "model.summary()\n",
        "model.get_config()\n",
        "model.layers[0].get_config()\n",
        "model.layers[0].input_shape\n",
        "model.layers[0].output_shape\n",
        "model.layers[0].get_weights()\n",
        "np.shape(model.layers[0].get_weights()[0])\n",
        "model.layers[0].trainable"
      ],
      "metadata": {
        "colab": {
          "base_uri": "https://localhost:8080/"
        },
        "id": "7AZpz1VttGRt",
        "outputId": "f2e80e0b-16fd-46f8-9608-8c6a1772057d"
      },
      "execution_count": null,
      "outputs": [
        {
          "output_type": "stream",
          "name": "stdout",
          "text": [
            "Model: \"sequential\"\n",
            "_________________________________________________________________\n",
            " Layer (type)                Output Shape              Param #   \n",
            "=================================================================\n",
            " conv2d (Conv2D)             (None, 48, 48, 6)         456       \n",
            "                                                                 \n",
            " max_pooling2d (MaxPooling2D  (None, 24, 24, 6)        0         \n",
            " )                                                               \n",
            "                                                                 \n",
            " conv2d_1 (Conv2D)           (None, 24, 24, 16)        2416      \n",
            "                                                                 \n",
            " activation (Activation)     (None, 24, 24, 16)        0         \n",
            "                                                                 \n",
            " max_pooling2d_1 (MaxPooling  (None, 12, 12, 16)       0         \n",
            " 2D)                                                             \n",
            "                                                                 \n",
            " conv2d_2 (Conv2D)           (None, 10, 10, 64)        9280      \n",
            "                                                                 \n",
            " max_pooling2d_2 (MaxPooling  (None, 5, 5, 64)         0         \n",
            " 2D)                                                             \n",
            "                                                                 \n",
            " flatten (Flatten)           (None, 1600)              0         \n",
            "                                                                 \n",
            " dense (Dense)               (None, 128)               204928    \n",
            "                                                                 \n",
            " dropout (Dropout)           (None, 128)               0         \n",
            "                                                                 \n",
            " dense_1 (Dense)             (None, 7)                 903       \n",
            "                                                                 \n",
            "=================================================================\n",
            "Total params: 217,983\n",
            "Trainable params: 217,983\n",
            "Non-trainable params: 0\n",
            "_________________________________________________________________\n"
          ]
        },
        {
          "output_type": "execute_result",
          "data": {
            "text/plain": [
              "True"
            ]
          },
          "metadata": {},
          "execution_count": 7
        }
      ]
    },
    {
      "cell_type": "code",
      "source": [
        "model.summary()\n",
        "model.get_config()\n",
        "model.layers[0].get_config()\n",
        "model.layers[0].input_shape\n",
        "model.layers[0].output_shape\n",
        "model.layers[0].get_weights()\n",
        "np.shape(model.layers[0].get_weights()[0])\n",
        "model.layers[0].trainable"
      ],
      "metadata": {
        "colab": {
          "base_uri": "https://localhost:8080/"
        },
        "id": "8fuMyPlMgJc6",
        "outputId": "49207acb-823a-4b09-a7dc-738ffe20f0ce"
      },
      "execution_count": null,
      "outputs": [
        {
          "output_type": "stream",
          "name": "stdout",
          "text": [
            "Model: \"sequential\"\n",
            "_________________________________________________________________\n",
            " Layer (type)                Output Shape              Param #   \n",
            "=================================================================\n",
            " conv2d (Conv2D)             (None, 48, 48, 6)         456       \n",
            "                                                                 \n",
            " max_pooling2d (MaxPooling2D  (None, 24, 24, 6)        0         \n",
            " )                                                               \n",
            "                                                                 \n",
            " conv2d_1 (Conv2D)           (None, 24, 24, 16)        2416      \n",
            "                                                                 \n",
            " activation (Activation)     (None, 24, 24, 16)        0         \n",
            "                                                                 \n",
            " max_pooling2d_1 (MaxPooling  (None, 12, 12, 16)       0         \n",
            " 2D)                                                             \n",
            "                                                                 \n",
            " conv2d_2 (Conv2D)           (None, 10, 10, 64)        9280      \n",
            "                                                                 \n",
            " max_pooling2d_2 (MaxPooling  (None, 5, 5, 64)         0         \n",
            " 2D)                                                             \n",
            "                                                                 \n",
            " flatten (Flatten)           (None, 1600)              0         \n",
            "                                                                 \n",
            " dense (Dense)               (None, 128)               204928    \n",
            "                                                                 \n",
            " dropout (Dropout)           (None, 128)               0         \n",
            "                                                                 \n",
            " dense_1 (Dense)             (None, 7)                 903       \n",
            "                                                                 \n",
            "=================================================================\n",
            "Total params: 217,983\n",
            "Trainable params: 217,983\n",
            "Non-trainable params: 0\n",
            "_________________________________________________________________\n"
          ]
        },
        {
          "output_type": "execute_result",
          "data": {
            "text/plain": [
              "True"
            ]
          },
          "metadata": {},
          "execution_count": 8
        }
      ]
    },
    {
      "cell_type": "code",
      "source": [
        "from keras import callbacks\n",
        "filename='model_train_new.csv'\n",
        "filepath=\"Best-weights-my_model-{epoch:03d}-{loss:.4f}-{acc:.4f}.hdf5\"\n",
        "\n",
        "csv_log=callbacks.CSVLogger(filename, separator=',', append=False)\n",
        "checkpoint = callbacks.ModelCheckpoint(filepath, monitor='val_loss', verbose=1, save_best_only=True, mode='min')\n",
        "callbacks_list = [csv_log,checkpoint]\n",
        "callbacks_list = [csv_log]"
      ],
      "metadata": {
        "id": "LxsBJfrbgN0A"
      },
      "execution_count": null,
      "outputs": []
    },
    {
      "cell_type": "code",
      "source": [
        "hist = model.fit(X_train, y_train, batch_size=7, epochs=50, verbose=1, validation_data=(X_test, y_test),callbacks=callbacks_list)"
      ],
      "metadata": {
        "colab": {
          "base_uri": "https://localhost:8080/"
        },
        "id": "HAA-s4MegTpm",
        "outputId": "c0941ef4-566a-4c5e-e685-c6f4afaa41f3"
      },
      "execution_count": null,
      "outputs": [
        {
          "output_type": "stream",
          "name": "stdout",
          "text": [
            "Epoch 1/50\n",
            "112/112 [==============================] - 3s 30ms/step - loss: 0.3989 - accuracy: 0.8074 - val_loss: 1.1131 - val_accuracy: 0.6904\n",
            "Epoch 2/50\n",
            "112/112 [==============================] - 6s 54ms/step - loss: 0.4113 - accuracy: 0.7895 - val_loss: 1.0415 - val_accuracy: 0.7259\n",
            "Epoch 3/50\n",
            "112/112 [==============================] - 6s 56ms/step - loss: 0.3715 - accuracy: 0.8176 - val_loss: 1.1262 - val_accuracy: 0.7208\n",
            "Epoch 4/50\n",
            "112/112 [==============================] - 5s 47ms/step - loss: 0.3904 - accuracy: 0.7857 - val_loss: 1.0038 - val_accuracy: 0.7005\n",
            "Epoch 5/50\n",
            "112/112 [==============================] - 3s 28ms/step - loss: 0.3914 - accuracy: 0.8074 - val_loss: 1.0375 - val_accuracy: 0.7360\n",
            "Epoch 6/50\n",
            "112/112 [==============================] - 3s 28ms/step - loss: 0.3986 - accuracy: 0.7934 - val_loss: 1.0577 - val_accuracy: 0.6802\n",
            "Epoch 7/50\n",
            "112/112 [==============================] - 3s 28ms/step - loss: 0.3874 - accuracy: 0.8023 - val_loss: 1.0825 - val_accuracy: 0.7005\n",
            "Epoch 8/50\n",
            "112/112 [==============================] - 3s 28ms/step - loss: 0.4188 - accuracy: 0.8010 - val_loss: 0.9592 - val_accuracy: 0.6701\n",
            "Epoch 9/50\n",
            "112/112 [==============================] - 3s 28ms/step - loss: 0.3761 - accuracy: 0.8074 - val_loss: 1.1311 - val_accuracy: 0.7107\n",
            "Epoch 10/50\n",
            "112/112 [==============================] - 3s 28ms/step - loss: 0.3738 - accuracy: 0.7997 - val_loss: 1.1848 - val_accuracy: 0.7107\n",
            "Epoch 11/50\n",
            "112/112 [==============================] - 3s 28ms/step - loss: 0.3841 - accuracy: 0.8048 - val_loss: 1.1108 - val_accuracy: 0.7259\n",
            "Epoch 12/50\n",
            "112/112 [==============================] - 3s 28ms/step - loss: 0.3841 - accuracy: 0.8125 - val_loss: 1.2914 - val_accuracy: 0.7208\n",
            "Epoch 13/50\n",
            "112/112 [==============================] - 3s 28ms/step - loss: 0.3745 - accuracy: 0.8240 - val_loss: 1.0856 - val_accuracy: 0.6954\n",
            "Epoch 14/50\n",
            "112/112 [==============================] - 3s 28ms/step - loss: 0.3726 - accuracy: 0.8189 - val_loss: 1.0725 - val_accuracy: 0.6954\n",
            "Epoch 15/50\n",
            "112/112 [==============================] - 3s 28ms/step - loss: 0.3720 - accuracy: 0.8099 - val_loss: 1.3993 - val_accuracy: 0.6751\n",
            "Epoch 16/50\n",
            "112/112 [==============================] - 3s 29ms/step - loss: 0.3789 - accuracy: 0.8023 - val_loss: 1.1806 - val_accuracy: 0.7056\n",
            "Epoch 17/50\n",
            "112/112 [==============================] - 3s 28ms/step - loss: 0.3550 - accuracy: 0.8265 - val_loss: 1.2608 - val_accuracy: 0.6802\n",
            "Epoch 18/50\n",
            "112/112 [==============================] - 3s 28ms/step - loss: 0.3585 - accuracy: 0.8240 - val_loss: 1.2173 - val_accuracy: 0.6802\n",
            "Epoch 19/50\n",
            "112/112 [==============================] - 3s 28ms/step - loss: 0.3633 - accuracy: 0.8265 - val_loss: 1.1626 - val_accuracy: 0.7005\n",
            "Epoch 20/50\n",
            "112/112 [==============================] - 3s 28ms/step - loss: 0.3832 - accuracy: 0.8036 - val_loss: 1.2755 - val_accuracy: 0.7208\n",
            "Epoch 21/50\n",
            "112/112 [==============================] - 3s 28ms/step - loss: 0.3559 - accuracy: 0.8163 - val_loss: 1.2682 - val_accuracy: 0.7005\n",
            "Epoch 22/50\n",
            "112/112 [==============================] - 3s 28ms/step - loss: 0.3244 - accuracy: 0.8393 - val_loss: 1.5227 - val_accuracy: 0.6802\n",
            "Epoch 23/50\n",
            "112/112 [==============================] - 3s 28ms/step - loss: 0.3558 - accuracy: 0.8214 - val_loss: 1.2845 - val_accuracy: 0.7056\n",
            "Epoch 24/50\n",
            "112/112 [==============================] - 3s 28ms/step - loss: 0.3433 - accuracy: 0.8469 - val_loss: 1.3548 - val_accuracy: 0.6904\n",
            "Epoch 25/50\n",
            "112/112 [==============================] - 3s 28ms/step - loss: 0.3397 - accuracy: 0.8253 - val_loss: 1.4308 - val_accuracy: 0.7056\n",
            "Epoch 26/50\n",
            "112/112 [==============================] - 3s 28ms/step - loss: 0.3420 - accuracy: 0.8380 - val_loss: 1.4327 - val_accuracy: 0.6853\n",
            "Epoch 27/50\n",
            "112/112 [==============================] - 3s 28ms/step - loss: 0.3369 - accuracy: 0.8380 - val_loss: 1.4805 - val_accuracy: 0.6904\n",
            "Epoch 28/50\n",
            "112/112 [==============================] - 3s 29ms/step - loss: 0.3427 - accuracy: 0.8316 - val_loss: 1.4599 - val_accuracy: 0.6853\n",
            "Epoch 29/50\n",
            "112/112 [==============================] - 3s 28ms/step - loss: 0.3407 - accuracy: 0.8444 - val_loss: 1.3089 - val_accuracy: 0.6802\n",
            "Epoch 30/50\n",
            "112/112 [==============================] - 3s 28ms/step - loss: 0.3391 - accuracy: 0.8278 - val_loss: 1.3511 - val_accuracy: 0.6701\n",
            "Epoch 31/50\n",
            "112/112 [==============================] - 3s 28ms/step - loss: 0.3531 - accuracy: 0.8304 - val_loss: 1.6802 - val_accuracy: 0.6751\n",
            "Epoch 32/50\n",
            "112/112 [==============================] - 3s 28ms/step - loss: 0.3366 - accuracy: 0.8546 - val_loss: 1.4115 - val_accuracy: 0.6802\n",
            "Epoch 33/50\n",
            "112/112 [==============================] - 3s 28ms/step - loss: 0.3404 - accuracy: 0.8380 - val_loss: 1.4344 - val_accuracy: 0.6853\n",
            "Epoch 34/50\n",
            "112/112 [==============================] - 3s 28ms/step - loss: 0.3305 - accuracy: 0.8278 - val_loss: 1.5420 - val_accuracy: 0.7157\n",
            "Epoch 35/50\n",
            "112/112 [==============================] - 3s 28ms/step - loss: 0.3382 - accuracy: 0.8329 - val_loss: 1.4482 - val_accuracy: 0.7107\n",
            "Epoch 36/50\n",
            "112/112 [==============================] - 3s 28ms/step - loss: 0.3335 - accuracy: 0.8214 - val_loss: 1.7219 - val_accuracy: 0.7056\n",
            "Epoch 37/50\n",
            "112/112 [==============================] - 3s 28ms/step - loss: 0.3424 - accuracy: 0.8316 - val_loss: 1.6692 - val_accuracy: 0.6853\n",
            "Epoch 38/50\n",
            "112/112 [==============================] - 3s 28ms/step - loss: 0.3203 - accuracy: 0.8406 - val_loss: 1.3622 - val_accuracy: 0.6701\n",
            "Epoch 39/50\n",
            "112/112 [==============================] - 3s 29ms/step - loss: 0.3243 - accuracy: 0.8393 - val_loss: 1.5797 - val_accuracy: 0.6701\n",
            "Epoch 40/50\n",
            "112/112 [==============================] - 3s 29ms/step - loss: 0.3087 - accuracy: 0.8355 - val_loss: 1.7686 - val_accuracy: 0.6954\n",
            "Epoch 41/50\n",
            "112/112 [==============================] - 3s 29ms/step - loss: 0.3397 - accuracy: 0.8457 - val_loss: 1.3915 - val_accuracy: 0.6853\n",
            "Epoch 42/50\n",
            "112/112 [==============================] - 3s 28ms/step - loss: 0.3578 - accuracy: 0.8329 - val_loss: 1.4210 - val_accuracy: 0.6802\n",
            "Epoch 43/50\n",
            "112/112 [==============================] - 3s 28ms/step - loss: 0.3317 - accuracy: 0.8444 - val_loss: 1.3256 - val_accuracy: 0.6954\n",
            "Epoch 44/50\n",
            "112/112 [==============================] - 3s 29ms/step - loss: 0.3201 - accuracy: 0.8240 - val_loss: 1.4248 - val_accuracy: 0.6904\n",
            "Epoch 45/50\n",
            "112/112 [==============================] - 3s 28ms/step - loss: 0.3396 - accuracy: 0.8457 - val_loss: 1.3713 - val_accuracy: 0.6904\n",
            "Epoch 46/50\n",
            "112/112 [==============================] - 3s 28ms/step - loss: 0.2885 - accuracy: 0.8648 - val_loss: 1.5742 - val_accuracy: 0.6802\n",
            "Epoch 47/50\n",
            "112/112 [==============================] - 3s 28ms/step - loss: 0.3176 - accuracy: 0.8355 - val_loss: 1.6512 - val_accuracy: 0.6904\n",
            "Epoch 48/50\n",
            "112/112 [==============================] - 3s 29ms/step - loss: 0.3093 - accuracy: 0.8469 - val_loss: 1.7115 - val_accuracy: 0.6751\n",
            "Epoch 49/50\n",
            "112/112 [==============================] - 3s 28ms/step - loss: 0.2854 - accuracy: 0.8559 - val_loss: 1.8365 - val_accuracy: 0.6751\n",
            "Epoch 50/50\n",
            "112/112 [==============================] - 3s 29ms/step - loss: 0.2824 - accuracy: 0.8469 - val_loss: 1.7719 - val_accuracy: 0.6853\n"
          ]
        }
      ]
    },
    {
      "cell_type": "code",
      "source": [
        "METRICS = [\n",
        "      tf.keras.metrics.BinaryAccuracy(name='accuracy'),\n",
        "      tf.keras.metrics.Precision(name='precision'),\n",
        "      tf.keras.metrics.Recall(name='recall'),  \n",
        "      tf.keras.metrics.AUC(name='auc'),\n",
        "        f1_score,\n",
        "]"
      ],
      "metadata": {
        "id": "9tKiSkfgr6Jb"
      },
      "execution_count": null,
      "outputs": []
    },
    {
      "cell_type": "code",
      "source": [
        "# keras' ReduceLROnPlateau callback default parameters:\n",
        "from keras.callbacks import ReduceLROnPlateau\n",
        "from keras.callbacks import ModelCheckpoint, EarlyStopping\n",
        "\n",
        "\n",
        "es = EarlyStopping(verbose=1, patience=20)\n",
        "lrd = ReduceLROnPlateau(monitor='val_loss', factor=0.1, patience=10,\n",
        "                              verbose=0, mode='auto', min_delta=0.0001,\n",
        "                              cooldown=0, min_lr=0)"
      ],
      "metadata": {
        "id": "U-gHYqpOr-qy"
      },
      "execution_count": null,
      "outputs": []
    }
  ]
}